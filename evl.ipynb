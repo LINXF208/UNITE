{
 "cells": [
  {
   "cell_type": "code",
   "execution_count": 1,
   "id": "1a77e411",
   "metadata": {},
   "outputs": [],
   "source": [
    "import numpy as np"
   ]
  },
  {
   "cell_type": "code",
   "execution_count": 18,
   "id": "0aa59aec",
   "metadata": {},
   "outputs": [],
   "source": [
    "results_pehe = []\n",
    "results_ate = []\n",
    "\n",
    "\n",
    "for i in range(3):\n",
    "    cur_name = \"./results/test_results_AMZ_negUNITE.UNITE_reapted_\"+str(i)+\".npy\"\n",
    "    cur_re = np.load( cur_name)\n",
    "    results_pehe.append(cur_re[0])\n",
    "    results_ate.append(cur_re[1])    "
   ]
  },
  {
   "cell_type": "code",
   "execution_count": null,
   "id": "55f32b1a",
   "metadata": {},
   "outputs": [],
   "source": [
    "print(np.mean(results_pehe),np.std(results_pehe))\n",
    "print(np.mean(results_ate),np.std(results_ate))\n"
   ]
  }
 ],
 "metadata": {
  "kernelspec": {
   "display_name": "Python 3 (ipykernel)",
   "language": "python",
   "name": "python3"
  },
  "language_info": {
   "codemirror_mode": {
    "name": "ipython",
    "version": 3
   },
   "file_extension": ".py",
   "mimetype": "text/x-python",
   "name": "python",
   "nbconvert_exporter": "python",
   "pygments_lexer": "ipython3",
   "version": "3.8.13"
  }
 },
 "nbformat": 4,
 "nbformat_minor": 5
}
